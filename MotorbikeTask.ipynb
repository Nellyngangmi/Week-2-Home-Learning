{
 "cells": [
  {
   "cell_type": "code",
   "execution_count": 53,
   "metadata": {},
   "outputs": [
    {
     "name": "stdout",
     "output_type": "stream",
     "text": [
      "The motorbike's value drops by 200.0 each year\n"
     ]
    }
   ],
   "source": [
    "# A motorbike cost £2000 and drops its value by 10% each year. \n",
    "# Step by step Calculation of how much it's value drops each year from 2015 - 2021 \n",
    "\n",
    "\n",
    "userInputString = input(\"Original cost of motorbike\")\n",
    "\n",
    "originalCostPrice = float( userInputString)\n",
    "\n",
    "YearlyValueDrop = (10 / 100) * originalCostPrice \n",
    "\n",
    "finalCost = originalCostPrice - YearlyValueDrop\n",
    "\n",
    "print(\"The motorbike's value drops by\", YearlyValueDrop, \"each year\")\n"
   ]
  },
  {
   "cell_type": "code",
   "execution_count": 54,
   "metadata": {},
   "outputs": [
    {
     "name": "stdout",
     "output_type": "stream",
     "text": [
      "The motorbike's value dropped by 200.0 this year\n"
     ]
    }
   ],
   "source": [
    "#function\n",
    "\n",
    "def Motorbike_value2():\n",
    "    YearlyValueDrop = (10/100) * originalCostPrice\n",
    "    finalCost = originalCostPrice - YearlyValueDrop\n",
    "    print(\"The motorbike's value drops by\", YearlyValueDrop, \"each year\")\n",
    "\n",
    "print (\"The motorbike's value dropped by\", YearlyValueDrop, \"this year\")\n",
    "\n"
   ]
  },
  {
   "cell_type": "code",
   "execution_count": 55,
   "metadata": {},
   "outputs": [],
   "source": [
    "def Motorbike_value2(x):\n",
    "    return 2000 - x"
   ]
  },
  {
   "cell_type": "code",
   "execution_count": 56,
   "metadata": {},
   "outputs": [],
   "source": [
    "a = Motorbike_value2(200)"
   ]
  },
  {
   "cell_type": "code",
   "execution_count": 57,
   "metadata": {},
   "outputs": [
    {
     "name": "stdout",
     "output_type": "stream",
     "text": [
      "1800\n",
      "The Motorbike's value in 2015 is 1800\n"
     ]
    }
   ],
   "source": [
    "print (a)\n",
    "print (\"The Motorbike's value in 2015 is\", a,)"
   ]
  },
  {
   "cell_type": "code",
   "execution_count": 61,
   "metadata": {},
   "outputs": [],
   "source": [
    "def Motorbike_value2(x):\n",
    "    return 1800 - x\n"
   ]
  },
  {
   "cell_type": "code",
   "execution_count": 63,
   "metadata": {},
   "outputs": [],
   "source": [
    "b = Motorbike_value2(200)"
   ]
  },
  {
   "cell_type": "code",
   "execution_count": 64,
   "metadata": {},
   "outputs": [
    {
     "name": "stdout",
     "output_type": "stream",
     "text": [
      "1600\n",
      "The Motorbike's value in 2016 is 1600\n"
     ]
    }
   ],
   "source": [
    "print (b)\n",
    "print (\"The Motorbike's value in 2016 is\", b,)"
   ]
  },
  {
   "cell_type": "code",
   "execution_count": 65,
   "metadata": {},
   "outputs": [],
   "source": [
    "def Motorbike_value2(x):\n",
    "    return 1600 - x"
   ]
  },
  {
   "cell_type": "code",
   "execution_count": 66,
   "metadata": {},
   "outputs": [],
   "source": [
    "c = Motorbike_value2(200)"
   ]
  },
  {
   "cell_type": "code",
   "execution_count": 67,
   "metadata": {},
   "outputs": [
    {
     "name": "stdout",
     "output_type": "stream",
     "text": [
      "1400\n",
      "The Motobike's value in 2017 is 1400\n"
     ]
    }
   ],
   "source": [
    "print (c)\n",
    "print (\"The Motobike's value in 2017 is\", c,)"
   ]
  },
  {
   "cell_type": "code",
   "execution_count": 68,
   "metadata": {},
   "outputs": [],
   "source": [
    "def Motorbike_value2(x):\n",
    "    return 1400 - x"
   ]
  },
  {
   "cell_type": "code",
   "execution_count": 71,
   "metadata": {},
   "outputs": [],
   "source": [
    "d = Motorbike_value2(200)"
   ]
  },
  {
   "cell_type": "code",
   "execution_count": 72,
   "metadata": {},
   "outputs": [
    {
     "name": "stdout",
     "output_type": "stream",
     "text": [
      "1200\n",
      "The Motorbike's value in 2018 is 1200\n"
     ]
    }
   ],
   "source": [
    "print (d)\n",
    "print (\"The Motorbike's value in 2018 is\", d,)"
   ]
  },
  {
   "cell_type": "code",
   "execution_count": 73,
   "metadata": {},
   "outputs": [],
   "source": [
    "def Motorbike_value2(x):\n",
    "    return 1200 - x"
   ]
  },
  {
   "cell_type": "code",
   "execution_count": 74,
   "metadata": {},
   "outputs": [],
   "source": [
    "e = Motorbike_value2(200)"
   ]
  },
  {
   "cell_type": "code",
   "execution_count": 75,
   "metadata": {},
   "outputs": [
    {
     "name": "stdout",
     "output_type": "stream",
     "text": [
      "1000\n",
      "The Motorbike's value in 2019 is 1000\n"
     ]
    }
   ],
   "source": [
    "print (e)\n",
    "print (\"The Motorbike's value in 2019 is\", e,)"
   ]
  },
  {
   "cell_type": "code",
   "execution_count": 89,
   "metadata": {},
   "outputs": [],
   "source": [
    "def Motorbike_value(x):\n",
    "    return 1000 - x"
   ]
  },
  {
   "cell_type": "code",
   "execution_count": 90,
   "metadata": {},
   "outputs": [],
   "source": [
    "f = Motorbike_value2 (200)"
   ]
  },
  {
   "cell_type": "code",
   "execution_count": 92,
   "metadata": {},
   "outputs": [
    {
     "name": "stdout",
     "output_type": "stream",
     "text": [
      "1000\n",
      "The Motorbike's value in 2020 is 1000\n"
     ]
    }
   ],
   "source": [
    "print (f)\n",
    "print (\"The Motorbike's value in 2020 is\", f,)"
   ]
  }
 ],
 "metadata": {
  "interpreter": {
   "hash": "aee8b7b246df8f9039afb4144a1f6fd8d2ca17a180786b69acc140d282b71a49"
  },
  "kernelspec": {
   "display_name": "Python 3.9.7 64-bit",
   "name": "python3"
  },
  "language_info": {
   "codemirror_mode": {
    "name": "ipython",
    "version": 3
   },
   "file_extension": ".py",
   "mimetype": "text/x-python",
   "name": "python",
   "nbconvert_exporter": "python",
   "pygments_lexer": "ipython3",
   "version": "3.9.7"
  },
  "orig_nbformat": 4
 },
 "nbformat": 4,
 "nbformat_minor": 2
}
