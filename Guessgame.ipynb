{
 "cells": [
  {
   "cell_type": "code",
   "execution_count": 33,
   "metadata": {},
   "outputs": [],
   "source": [
    "def Addition():\n",
    "    Operation = input(\"choose an operation to perform\")\n",
    "    if Operation == \"1\":\n",
    "        num1= input(\"enter first number:\")\n",
    "        num2= input(\"enter second number:\")\n",
    "\n",
    "    print(\"Total \"+ str(int(num1) + int(num2))) "
   ]
  },
  {
   "cell_type": "code",
   "execution_count": 34,
   "metadata": {},
   "outputs": [
    {
     "name": "stdout",
     "output_type": "stream",
     "text": [
      "Total 6\n"
     ]
    }
   ],
   "source": [
    "Addition()"
   ]
  },
  {
   "cell_type": "code",
   "execution_count": null,
   "metadata": {},
   "outputs": [],
   "source": [
    "def Subtraction():\n",
    "    Operation = input(\"choose an operation to perform\")\n",
    "    if Operation == \"2\":\n",
    "        num1= input(\"enter first number:\")\n",
    "        num2= input(\"enter second number:\")\n",
    "\n",
    "    print(\"Total \"+ str(int(num1) - int(num2))) "
   ]
  },
  {
   "cell_type": "code",
   "execution_count": null,
   "metadata": {},
   "outputs": [
    {
     "name": "stdout",
     "output_type": "stream",
     "text": [
      "Total 1\n"
     ]
    }
   ],
   "source": [
    "Subtraction()"
   ]
  },
  {
   "cell_type": "code",
   "execution_count": null,
   "metadata": {},
   "outputs": [],
   "source": [
    "def Multiplication():\n",
    "    Operation = input(\"choose a number 1, 2, 3 or 4 to perform\")\n",
    "    if Operation == \"3\":\n",
    "        num1= input(\"enter first number:\")\n",
    "        num2= input(\"enter second number:\")\n",
    "\n",
    "    print(\"Total \"+ str(int(num1) * int(num2))) "
   ]
  },
  {
   "cell_type": "code",
   "execution_count": null,
   "metadata": {},
   "outputs": [
    {
     "name": "stdout",
     "output_type": "stream",
     "text": [
      "Total 4\n"
     ]
    }
   ],
   "source": [
    "Multiplication()"
   ]
  },
  {
   "cell_type": "code",
   "execution_count": null,
   "metadata": {},
   "outputs": [],
   "source": [
    "def Divide():\n",
    "    Operation = input(\"choose a number 1, 2, 3 or 4 to perform\")\n",
    "    if Operation == \"4\":\n",
    "        num1= input(\"enter first number:\")\n",
    "        num2= input(\"enter second number:\")\n",
    "\n",
    "    print(\"Total \"+ str(int(num1) / int(num2))) \n"
   ]
  },
  {
   "cell_type": "code",
   "execution_count": null,
   "metadata": {},
   "outputs": [
    {
     "name": "stdout",
     "output_type": "stream",
     "text": [
      "Total 2.0\n"
     ]
    }
   ],
   "source": [
    "Divide()"
   ]
  },
  {
   "cell_type": "code",
   "execution_count": null,
   "metadata": {},
   "outputs": [],
   "source": [
    "\n",
    "print (\"Invalid Operation\")"
   ]
  }
 ],
 "metadata": {
  "interpreter": {
   "hash": "aee8b7b246df8f9039afb4144a1f6fd8d2ca17a180786b69acc140d282b71a49"
  },
  "kernelspec": {
   "display_name": "Python 3.9.7 64-bit",
   "name": "python3"
  },
  "language_info": {
   "codemirror_mode": {
    "name": "ipython",
    "version": 3
   },
   "file_extension": ".py",
   "mimetype": "text/x-python",
   "name": "python",
   "nbconvert_exporter": "python",
   "pygments_lexer": "ipython3",
   "version": "3.9.7"
  },
  "orig_nbformat": 4
 },
 "nbformat": 4,
 "nbformat_minor": 2
}
