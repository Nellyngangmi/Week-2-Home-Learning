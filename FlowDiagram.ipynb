{
 "cells": [
  {
   "cell_type": "code",
   "execution_count": 2,
   "metadata": {},
   "outputs": [
    {
     "name": "stdout",
     "output_type": "stream",
     "text": [
      "Pre-Employment Training Eligibility Booking Procedure\n",
      "Start\n",
      "Client calls to express interest\n",
      "Adminstrator checks eligibility\n",
      "Explain to Client they are not eligible due to funding\n",
      "Record Client's details Tracker Spreadsheet\n",
      "End\n"
     ]
    }
   ],
   "source": [
    "#Creating a Flow Diagram Code\n",
    "\n",
    "print (\"Pre-Employment Training Eligibility Booking Procedure\")\n",
    "\n",
    "print('Start')\n",
    "print(\"Client calls to express interest\")\n",
    "print(\"Adminstrator checks eligibility\")\n",
    "Client = int(input(\"select an option 1 or 2\"))\n",
    "if (Client == 1):\n",
    "    print (\"Inform Client they are eligible and book for next ISE\")\n",
    "elif (Client == 2):\n",
    "    print (\"Explain to Client they are not eligible due to funding\")\n",
    "\n",
    "print(\"Record Client's details Tracker Spreadsheet\")\n",
    "print(\"End\")\n"
   ]
  }
 ],
 "metadata": {
  "interpreter": {
   "hash": "aee8b7b246df8f9039afb4144a1f6fd8d2ca17a180786b69acc140d282b71a49"
  },
  "kernelspec": {
   "display_name": "Python 3.9.7 64-bit",
   "name": "python3"
  },
  "language_info": {
   "codemirror_mode": {
    "name": "ipython",
    "version": 3
   },
   "file_extension": ".py",
   "mimetype": "text/x-python",
   "name": "python",
   "nbconvert_exporter": "python",
   "pygments_lexer": "ipython3",
   "version": "3.9.7"
  },
  "orig_nbformat": 4
 },
 "nbformat": 4,
 "nbformat_minor": 2
}
